{
 "cells": [
  {
   "cell_type": "code",
   "execution_count": null,
   "id": "551a5ff7-26b0-4271-b0ee-381eafb4c839",
   "metadata": {},
   "outputs": [],
   "source": [
    "\n",
    "\n",
    "\n",
    "#Tutorial Machine Learning con Python - Ejemplo Real con Scikit Learn\n",
    "\n",
    "\n",
    "\n",
    "#https://www.youtube.com/watch?v=afFf55jR50M\n",
    "\n",
    "\n",
    "#Vamos a ver un ejemplo real de Machine Learning utilizando Scikit Learn. \n",
    "#En este proyecto veremos como desde el departamento de marketing nos piden \n",
    "#que les creemos un modelo para separar las opiniones con respecto al producto \n",
    "#1 y 2 y así el departamento de marketing poder analizar mejor la información.\n",
    "\n"
   ]
  },
  {
   "cell_type": "code",
   "execution_count": null,
   "id": "e81e7f84-67e7-425c-a3e6-980f6052157e",
   "metadata": {},
   "outputs": [],
   "source": [
    "'''\n",
    "\n",
    "Punto1: Definir el problema\n",
    "\n",
    "'''"
   ]
  },
  {
   "cell_type": "code",
   "execution_count": 1,
   "id": "fc05a1c3-f824-4231-8c10-cb20e48a1a99",
   "metadata": {},
   "outputs": [],
   "source": [
    "import pandas as pd\n"
   ]
  },
  {
   "cell_type": "code",
   "execution_count": null,
   "id": "b68ea7a4-d3ab-493f-832e-affec9f19931",
   "metadata": {},
   "outputs": [],
   "source": [
    "'''\n",
    "\n",
    "#Punto 2 ( RECOLECCION DE DATOS)\n",
    "\n",
    "\n",
    "'''"
   ]
  },
  {
   "cell_type": "code",
   "execution_count": 2,
   "id": "333dc749-53b6-4a6f-8294-531d289a2454",
   "metadata": {},
   "outputs": [],
   "source": [
    "df = pd.read_csv('Eopinions.csv')"
   ]
  },
  {
   "cell_type": "code",
   "execution_count": 4,
   "id": "4be1f1a1-ce4d-48a1-b4ba-49bebcabdb77",
   "metadata": {},
   "outputs": [
    {
     "data": {
      "text/html": [
       "<div>\n",
       "<style scoped>\n",
       "    .dataframe tbody tr th:only-of-type {\n",
       "        vertical-align: middle;\n",
       "    }\n",
       "\n",
       "    .dataframe tbody tr th {\n",
       "        vertical-align: top;\n",
       "    }\n",
       "\n",
       "    .dataframe thead th {\n",
       "        text-align: right;\n",
       "    }\n",
       "</style>\n",
       "<table border=\"1\" class=\"dataframe\">\n",
       "  <thead>\n",
       "    <tr style=\"text-align: right;\">\n",
       "      <th></th>\n",
       "      <th>class</th>\n",
       "      <th>text</th>\n",
       "    </tr>\n",
       "  </thead>\n",
       "  <tbody>\n",
       "    <tr>\n",
       "      <th>0</th>\n",
       "      <td>Auto</td>\n",
       "      <td>I have recently purchased a J30T with moderat...</td>\n",
       "    </tr>\n",
       "    <tr>\n",
       "      <th>1</th>\n",
       "      <td>Camera</td>\n",
       "      <td>I bought this product because I need instant ...</td>\n",
       "    </tr>\n",
       "    <tr>\n",
       "      <th>2</th>\n",
       "      <td>Auto</td>\n",
       "      <td>I have owned my Buick since 53000 km and I am...</td>\n",
       "    </tr>\n",
       "    <tr>\n",
       "      <th>3</th>\n",
       "      <td>Camera</td>\n",
       "      <td>This was my first Digital camera so I did qui...</td>\n",
       "    </tr>\n",
       "    <tr>\n",
       "      <th>4</th>\n",
       "      <td>Camera</td>\n",
       "      <td>Minolta DiMAGE 7Hi is in a digital SLR with 5...</td>\n",
       "    </tr>\n",
       "    <tr>\n",
       "      <th>...</th>\n",
       "      <td>...</td>\n",
       "      <td>...</td>\n",
       "    </tr>\n",
       "    <tr>\n",
       "      <th>595</th>\n",
       "      <td>Auto</td>\n",
       "      <td>Recently our 12 year old Nissan Stanza decide...</td>\n",
       "    </tr>\n",
       "    <tr>\n",
       "      <th>596</th>\n",
       "      <td>Camera</td>\n",
       "      <td>I always do a lot of research before I buy an...</td>\n",
       "    </tr>\n",
       "    <tr>\n",
       "      <th>597</th>\n",
       "      <td>Auto</td>\n",
       "      <td>This car is an all around good buy  If you ar...</td>\n",
       "    </tr>\n",
       "    <tr>\n",
       "      <th>598</th>\n",
       "      <td>Auto</td>\n",
       "      <td>I waited to write this until I have had 4 mon...</td>\n",
       "    </tr>\n",
       "    <tr>\n",
       "      <th>599</th>\n",
       "      <td>Auto</td>\n",
       "      <td>I have been a Montero owner since about 1985 ...</td>\n",
       "    </tr>\n",
       "  </tbody>\n",
       "</table>\n",
       "<p>600 rows × 2 columns</p>\n",
       "</div>"
      ],
      "text/plain": [
       "      class                                               text\n",
       "0      Auto   I have recently purchased a J30T with moderat...\n",
       "1    Camera   I bought this product because I need instant ...\n",
       "2      Auto   I have owned my Buick since 53000 km and I am...\n",
       "3    Camera   This was my first Digital camera so I did qui...\n",
       "4    Camera   Minolta DiMAGE 7Hi is in a digital SLR with 5...\n",
       "..      ...                                                ...\n",
       "595    Auto   Recently our 12 year old Nissan Stanza decide...\n",
       "596  Camera   I always do a lot of research before I buy an...\n",
       "597    Auto   This car is an all around good buy  If you ar...\n",
       "598    Auto   I waited to write this until I have had 4 mon...\n",
       "599    Auto   I have been a Montero owner since about 1985 ...\n",
       "\n",
       "[600 rows x 2 columns]"
      ]
     },
     "execution_count": 4,
     "metadata": {},
     "output_type": "execute_result"
    }
   ],
   "source": [
    "df"
   ]
  },
  {
   "cell_type": "code",
   "execution_count": 5,
   "id": "bb895bee-9085-43da-81ad-186c9bdba003",
   "metadata": {},
   "outputs": [
    {
     "data": {
      "text/plain": [
       "<bound method DataFrame.info of       class                                               text\n",
       "0      Auto   I have recently purchased a J30T with moderat...\n",
       "1    Camera   I bought this product because I need instant ...\n",
       "2      Auto   I have owned my Buick since 53000 km and I am...\n",
       "3    Camera   This was my first Digital camera so I did qui...\n",
       "4    Camera   Minolta DiMAGE 7Hi is in a digital SLR with 5...\n",
       "..      ...                                                ...\n",
       "595    Auto   Recently our 12 year old Nissan Stanza decide...\n",
       "596  Camera   I always do a lot of research before I buy an...\n",
       "597    Auto   This car is an all around good buy  If you ar...\n",
       "598    Auto   I waited to write this until I have had 4 mon...\n",
       "599    Auto   I have been a Montero owner since about 1985 ...\n",
       "\n",
       "[600 rows x 2 columns]>"
      ]
     },
     "execution_count": 5,
     "metadata": {},
     "output_type": "execute_result"
    }
   ],
   "source": [
    "df.info"
   ]
  },
  {
   "cell_type": "code",
   "execution_count": 6,
   "id": "399b592a-0be2-42c7-8fe0-083d1a35ef37",
   "metadata": {},
   "outputs": [
    {
     "data": {
      "text/plain": [
       "class                                                 Auto\n",
       "text      I have owned my Buick since 53000 km and I am...\n",
       "Name: 2, dtype: object"
      ]
     },
     "execution_count": 6,
     "metadata": {},
     "output_type": "execute_result"
    }
   ],
   "source": [
    "#si solo queremos ver una fila\n",
    "\n",
    "df.loc[2]"
   ]
  },
  {
   "cell_type": "code",
   "execution_count": 7,
   "id": "5a84a02e-1d5d-4fa7-b18f-7d62fcbc39ec",
   "metadata": {},
   "outputs": [],
   "source": [
    "#siendo la segunda columna muy largo el texto, pd lo corta automaticamente. para ver todo el contenido, le decimos:\n",
    "pd.set_option('display.max_colwidth', None)"
   ]
  },
  {
   "cell_type": "code",
   "execution_count": 8,
   "id": "b42cf553-5b29-4302-9ef7-25b2ac9c2e65",
   "metadata": {},
   "outputs": [
    {
     "data": {
      "text/plain": [
       "class                                                                                                                                                                                                                                                                                                                                                                                                                                                                                                                                                                                                                                                                                                                                                                                                                                                                                                                                                                                                                                                                                                                                                                                                                                                                                                                                                                                                                    Auto\n",
       "text      I have owned my Buick since 53000 km and I am now approaching 60000 on it  I must say it s the nicest car I ve owned and driven in a while  I previously owned a 1995 Grand AM which doesn t compare at all to the Buick  I have also test driven a 2002 Malibu  I have also rented a Lincoln Continental which I think is almost comparable to this vehicle  but not quite I was very pleasantly surprised by all of the basic features on this model  There is an indicator light for low fuel  low washer fluid  change engine oil soon  low tire pressure to name a few  As well  the three built in tether hooks in the back for car seats are a must have for me as I have two small children  I took a while to get used to the size of the car as I was previously in a smaller car  As well due to the high back  I m still not entirely comfortable when backing up  I tend to over estimate the size of the back  I would rate this vehicle average to above average on acceleration  Due to it s size and weight  it s not a sports car and I don t think it was meant to appeal to that type of consumer  I find that overall the Buick Century is easy to handle  It s a great car at a reasonable price  You can also read some more info on this car by copying and pasting this link to your browser http auto consumerguide com auto used reviews full index cfm id 2287 htm Happy car shopping  \n",
       "Name: 2, dtype: object"
      ]
     },
     "execution_count": 8,
     "metadata": {},
     "output_type": "execute_result"
    }
   ],
   "source": [
    "df.loc[2]"
   ]
  },
  {
   "cell_type": "code",
   "execution_count": 11,
   "id": "a9c87252-eaad-4554-91d9-3a7531df3087",
   "metadata": {},
   "outputs": [
    {
     "data": {
      "text/plain": [
       "0       238\n",
       "1       585\n",
       "2       301\n",
       "3       220\n",
       "4      1112\n",
       "       ... \n",
       "595     441\n",
       "596     375\n",
       "597     175\n",
       "598     472\n",
       "599     252\n",
       "Name: text, Length: 600, dtype: int64"
      ]
     },
     "execution_count": 11,
     "metadata": {},
     "output_type": "execute_result"
    }
   ],
   "source": [
    "#contando palabras de cada texto.\n",
    "\n",
    "df['text'].str.count(' ') #esta ultima parte significa: que cuente cada vez que encuentra un espacio. asi deducimos las palabras por los espacios existentes"
   ]
  },
  {
   "cell_type": "code",
   "execution_count": 12,
   "id": "6325a2a8-fa74-45f3-a032-1c9a593e2ea2",
   "metadata": {},
   "outputs": [
    {
     "data": {
      "text/plain": [
       "592.13"
      ]
     },
     "execution_count": 12,
     "metadata": {},
     "output_type": "execute_result"
    }
   ],
   "source": [
    "#si sumaramos todas las pabras de cada texto y lo dividieramos por los 600 textos que hay, nos saleuna media de... : 592 palabras\n",
    "\n",
    "df['text'].str.count(' ').mean()"
   ]
  },
  {
   "cell_type": "code",
   "execution_count": 13,
   "id": "9536c920-e3ae-4a7f-841a-e3c1626feb89",
   "metadata": {},
   "outputs": [
    {
     "data": {
      "text/plain": [
       "class\n",
       "Camera    350\n",
       "Auto      250\n",
       "Name: count, dtype: int64"
      ]
     },
     "execution_count": 13,
     "metadata": {},
     "output_type": "execute_result"
    }
   ],
   "source": [
    "#contando cuantas opiniones hay de camaras y cuantas de coches\n",
    "df['class'].value_counts()"
   ]
  },
  {
   "cell_type": "code",
   "execution_count": null,
   "id": "843922cf-9e6a-4b2a-93f5-fa56738cc1d3",
   "metadata": {},
   "outputs": [],
   "source": [
    "\n",
    "'''\n",
    "\n",
    "#Punto3 (PREPARAR LOS DATOS)\n",
    "\n",
    "'''\n"
   ]
  },
  {
   "cell_type": "code",
   "execution_count": 14,
   "id": "d1504eb9-7592-43b1-b103-0d44e99ce0be",
   "metadata": {},
   "outputs": [
    {
     "data": {
      "text/plain": [
       "False"
      ]
     },
     "execution_count": 14,
     "metadata": {},
     "output_type": "execute_result"
    }
   ],
   "source": [
    "#hay valores nulos? los Nan o valores nulos hay que tratarlos para no generar errores en el modelo\n",
    "df.isnull().values.any()    #FALSO : no hay valores nulos. perfecto"
   ]
  },
  {
   "cell_type": "code",
   "execution_count": 15,
   "id": "e289913a-04da-4923-8004-7b1f97029f78",
   "metadata": {},
   "outputs": [
    {
     "data": {
      "text/html": [
       "<div>\n",
       "<style scoped>\n",
       "    .dataframe tbody tr th:only-of-type {\n",
       "        vertical-align: middle;\n",
       "    }\n",
       "\n",
       "    .dataframe tbody tr th {\n",
       "        vertical-align: top;\n",
       "    }\n",
       "\n",
       "    .dataframe thead th {\n",
       "        text-align: right;\n",
       "    }\n",
       "</style>\n",
       "<table border=\"1\" class=\"dataframe\">\n",
       "  <thead>\n",
       "    <tr style=\"text-align: right;\">\n",
       "      <th></th>\n",
       "      <th>class</th>\n",
       "      <th>text</th>\n",
       "    </tr>\n",
       "  </thead>\n",
       "  <tbody>\n",
       "    <tr>\n",
       "      <th>0</th>\n",
       "      <td>False</td>\n",
       "      <td>False</td>\n",
       "    </tr>\n",
       "    <tr>\n",
       "      <th>1</th>\n",
       "      <td>False</td>\n",
       "      <td>False</td>\n",
       "    </tr>\n",
       "    <tr>\n",
       "      <th>2</th>\n",
       "      <td>False</td>\n",
       "      <td>False</td>\n",
       "    </tr>\n",
       "    <tr>\n",
       "      <th>3</th>\n",
       "      <td>False</td>\n",
       "      <td>False</td>\n",
       "    </tr>\n",
       "    <tr>\n",
       "      <th>4</th>\n",
       "      <td>False</td>\n",
       "      <td>False</td>\n",
       "    </tr>\n",
       "    <tr>\n",
       "      <th>...</th>\n",
       "      <td>...</td>\n",
       "      <td>...</td>\n",
       "    </tr>\n",
       "    <tr>\n",
       "      <th>595</th>\n",
       "      <td>False</td>\n",
       "      <td>False</td>\n",
       "    </tr>\n",
       "    <tr>\n",
       "      <th>596</th>\n",
       "      <td>False</td>\n",
       "      <td>False</td>\n",
       "    </tr>\n",
       "    <tr>\n",
       "      <th>597</th>\n",
       "      <td>False</td>\n",
       "      <td>False</td>\n",
       "    </tr>\n",
       "    <tr>\n",
       "      <th>598</th>\n",
       "      <td>False</td>\n",
       "      <td>False</td>\n",
       "    </tr>\n",
       "    <tr>\n",
       "      <th>599</th>\n",
       "      <td>False</td>\n",
       "      <td>False</td>\n",
       "    </tr>\n",
       "  </tbody>\n",
       "</table>\n",
       "<p>600 rows × 2 columns</p>\n",
       "</div>"
      ],
      "text/plain": [
       "     class   text\n",
       "0    False  False\n",
       "1    False  False\n",
       "2    False  False\n",
       "3    False  False\n",
       "4    False  False\n",
       "..     ...    ...\n",
       "595  False  False\n",
       "596  False  False\n",
       "597  False  False\n",
       "598  False  False\n",
       "599  False  False\n",
       "\n",
       "[600 rows x 2 columns]"
      ]
     },
     "execution_count": 15,
     "metadata": {},
     "output_type": "execute_result"
    }
   ],
   "source": [
    "df.isnull()"
   ]
  },
  {
   "cell_type": "code",
   "execution_count": 16,
   "id": "53ad7149-6e8e-43e0-8c24-c080a742e7ba",
   "metadata": {},
   "outputs": [
    {
     "data": {
      "text/plain": [
       "class    0\n",
       "text     0\n",
       "dtype: int64"
      ]
     },
     "execution_count": 16,
     "metadata": {},
     "output_type": "execute_result"
    }
   ],
   "source": [
    "df.isnull().sum()\n",
    "#la suma de los nulos. Como no hay, 0 para class y 0 para text"
   ]
  },
  {
   "cell_type": "code",
   "execution_count": 17,
   "id": "b10ac93d-7add-4c7b-b30b-656644b4ba6c",
   "metadata": {},
   "outputs": [
    {
     "data": {
      "text/plain": [
       "0"
      ]
     },
     "execution_count": 17,
     "metadata": {},
     "output_type": "execute_result"
    }
   ],
   "source": [
    "#la suma de la suma, sumar los nulos de class y de text\n",
    "df.isnull().sum().sum()"
   ]
  },
  {
   "cell_type": "code",
   "execution_count": 20,
   "id": "c9b5419b-eebd-42cb-a1d3-b8615b4ef8c3",
   "metadata": {},
   "outputs": [
    {
     "data": {
      "text/plain": [
       "0.0"
      ]
     },
     "execution_count": 20,
     "metadata": {},
     "output_type": "execute_result"
    }
   ],
   "source": [
    "#NOTA : en este tutorial no se explica como preprar los datos , para quitar los NaN. Como aqui no hay, se lo salta. Este paso es very important\n",
    "\n",
    "#MUY IMPORTANTE DEJAR LOS DATOS LIMPIOS"
   ]
  },
  {
   "cell_type": "code",
   "execution_count": null,
   "id": "4d0efd64-7ea8-497a-ad20-51468405015b",
   "metadata": {},
   "outputs": [],
   "source": [
    "'''\n",
    "Punto 4: Entrenar el modelo\n",
    "\n",
    "'''"
   ]
  },
  {
   "cell_type": "code",
   "execution_count": null,
   "id": "3a86311a-a796-4748-99a3-bd2e79d9659f",
   "metadata": {},
   "outputs": [],
   "source": [
    "#Dividir los datos (DF) en dos partes, una es TRAINING (permite entrenar el modelo)\n",
    "#y otra es TEST( para testeaer el modelo)\n",
    "#Porque no cogemos todos los datos para entrenar? porque si no a la hora de testearlo lo hariamos con un dato con el que hemos entrenado el modelo, \n",
    "#ya lo conoce.\n",
    "\n",
    "# ejemplo 33% para Trainning , y el resto para testing"
   ]
  },
  {
   "cell_type": "code",
   "execution_count": 27,
   "id": "7c3f1ae0-7b4a-4ec3-86f8-8561aa5ebaff",
   "metadata": {},
   "outputs": [],
   "source": [
    "from sklearn.model_selection import train_test_split "
   ]
  },
  {
   "cell_type": "code",
   "execution_count": 28,
   "id": "6fceaaef-af3c-481e-9f01-77f12fed772b",
   "metadata": {},
   "outputs": [],
   "source": [
    "train , test = train_test_split(df, test_size=0.33 , random_state=42)"
   ]
  },
  {
   "cell_type": "code",
   "execution_count": 32,
   "id": "c270931f-e2e7-40bc-acc1-86d23d8ec23d",
   "metadata": {},
   "outputs": [
    {
     "name": "stdout",
     "output_type": "stream",
     "text": [
      "<class 'pandas.core.frame.DataFrame'>\n",
      "Index: 402 entries, 509 to 102\n",
      "Data columns (total 2 columns):\n",
      " #   Column  Non-Null Count  Dtype \n",
      "---  ------  --------------  ----- \n",
      " 0   class   402 non-null    object\n",
      " 1   text    402 non-null    object\n",
      "dtypes: object(2)\n",
      "memory usage: 9.4+ KB\n"
     ]
    }
   ],
   "source": [
    "train.info() #402 entradas para entrenamiento"
   ]
  },
  {
   "cell_type": "code",
   "execution_count": 33,
   "id": "02461428-6534-4c05-8c62-f4acb9e74f2e",
   "metadata": {},
   "outputs": [
    {
     "name": "stdout",
     "output_type": "stream",
     "text": [
      "<class 'pandas.core.frame.DataFrame'>\n",
      "Index: 198 entries, 110 to 350\n",
      "Data columns (total 2 columns):\n",
      " #   Column  Non-Null Count  Dtype \n",
      "---  ------  --------------  ----- \n",
      " 0   class   198 non-null    object\n",
      " 1   text    198 non-null    object\n",
      "dtypes: object(2)\n",
      "memory usage: 4.6+ KB\n"
     ]
    }
   ],
   "source": [
    "test.info() # 198 entradas pora Test"
   ]
  },
  {
   "cell_type": "code",
   "execution_count": 34,
   "id": "5fd9ce1d-131c-47b9-bd81-9e81830f2ef0",
   "metadata": {},
   "outputs": [],
   "source": [
    "#pasamos el text a train_X y el class a train_Y\n",
    "\n",
    "train_x = train['text'].to_list()"
   ]
  },
  {
   "cell_type": "code",
   "execution_count": 35,
   "id": "611e1ef1-6cfb-4818-8f30-2841a688a961",
   "metadata": {},
   "outputs": [],
   "source": [
    "train_y = train['class'].to_list()"
   ]
  },
  {
   "cell_type": "code",
   "execution_count": null,
   "id": "ec2930fc-ce2a-4714-a392-fde6f0663d19",
   "metadata": {},
   "outputs": [],
   "source": [
    "#lo mismo para el split de test:"
   ]
  },
  {
   "cell_type": "code",
   "execution_count": 36,
   "id": "4ad0fc9e-ff15-43a2-9494-6614e7210ab8",
   "metadata": {},
   "outputs": [],
   "source": [
    "test_x = test['text'].to_list()"
   ]
  },
  {
   "cell_type": "code",
   "execution_count": 37,
   "id": "9ee03b5b-d92c-4655-8c0f-0e698e335ca4",
   "metadata": {},
   "outputs": [],
   "source": [
    "test_y = test['class'].to_list()"
   ]
  },
  {
   "cell_type": "code",
   "execution_count": null,
   "id": "ffaebb39-ee66-4272-82e9-72ed5b9fe280",
   "metadata": {},
   "outputs": [],
   "source": [
    "#ahora vamos a crear un modelo basado en bolsa de palabras : BAG OF WORDS\n"
   ]
  },
  {
   "cell_type": "code",
   "execution_count": 38,
   "id": "eb53de8e-62a5-433f-9940-cc693989621c",
   "metadata": {},
   "outputs": [],
   "source": [
    "from sklearn.feature_extraction.text import CountVectorizer"
   ]
  },
  {
   "cell_type": "code",
   "execution_count": 40,
   "id": "f6c68874-c025-4eb7-8f2e-d114eeb8ddf5",
   "metadata": {},
   "outputs": [],
   "source": [
    "vectorizer = CountVectorizer()"
   ]
  },
  {
   "cell_type": "code",
   "execution_count": 42,
   "id": "9301a98d-2dee-4afc-9061-65dc49de0252",
   "metadata": {},
   "outputs": [],
   "source": [
    "train_x_vectors = vectorizer.fit_transform(train_x)"
   ]
  },
  {
   "cell_type": "code",
   "execution_count": 50,
   "id": "b198caab-d28c-40ea-ad3f-15ad18434a0f",
   "metadata": {},
   "outputs": [],
   "source": [
    "test_x_vectors = vectorizer.transform(test_x) #aqui el metodo no lleva el fit, porque no lo usaremos para aprender, solo para usar la matriz"
   ]
  },
  {
   "cell_type": "code",
   "execution_count": 52,
   "id": "f2cde003-0b7a-419a-bafe-397f37c7d85c",
   "metadata": {},
   "outputs": [
    {
     "data": {
      "text/plain": [
       "(402, 10558)"
      ]
     },
     "execution_count": 52,
     "metadata": {},
     "output_type": "execute_result"
    }
   ],
   "source": [
    "#Entionces, cuantas palabras tendra la bolsa de palabras en train_x_vectors? interesante..\n",
    "train_x_vectors.shape\n",
    "#Pues tiene 402 registros, y la bolsa tiene 10558 palabras con las que se puede construir todos los comentarios"
   ]
  },
  {
   "cell_type": "code",
   "execution_count": 53,
   "id": "bc644cf6-99b4-4898-88e3-1025d6471c13",
   "metadata": {},
   "outputs": [
    {
     "data": {
      "text/plain": [
       "(198, 10558)"
      ]
     },
     "execution_count": 53,
     "metadata": {},
     "output_type": "execute_result"
    }
   ],
   "source": [
    "test_x_vectors.shape\n",
    "#Curioso, las mismas palabras tiene la bolsa para construir los comentarios de la parte de testeo"
   ]
  },
  {
   "cell_type": "code",
   "execution_count": null,
   "id": "32b24378-8292-48a1-9b43-3e4310a6a219",
   "metadata": {},
   "outputs": [],
   "source": [
    "#Ya teniendo la bolsa de palabras (BoW), vamos a usar un modelo de decission Tree ( Arbol de decisiones )\n",
    "\n",
    "#Este Decission Tree nos va permitir saber para cada comentario, si se trata de una reseña de camara, o de coche\n"
   ]
  },
  {
   "cell_type": "code",
   "execution_count": 54,
   "id": "3f971aea-92a9-4f49-bbd8-e4538a90004f",
   "metadata": {},
   "outputs": [],
   "source": [
    "from sklearn.tree import DecisionTreeClassifier"
   ]
  },
  {
   "cell_type": "code",
   "execution_count": 58,
   "id": "bb5dc74e-7d74-407d-856e-8bc4051c50d6",
   "metadata": {},
   "outputs": [],
   "source": [
    "clf_decision = DecisionTreeClassifier()"
   ]
  },
  {
   "cell_type": "code",
   "execution_count": 59,
   "id": "1231831f-93b0-4a76-a232-e91485c3ee4e",
   "metadata": {},
   "outputs": [
    {
     "data": {
      "text/html": [
       "<style>#sk-container-id-1 {\n",
       "  /* Definition of color scheme common for light and dark mode */\n",
       "  --sklearn-color-text: black;\n",
       "  --sklearn-color-line: gray;\n",
       "  /* Definition of color scheme for unfitted estimators */\n",
       "  --sklearn-color-unfitted-level-0: #fff5e6;\n",
       "  --sklearn-color-unfitted-level-1: #f6e4d2;\n",
       "  --sklearn-color-unfitted-level-2: #ffe0b3;\n",
       "  --sklearn-color-unfitted-level-3: chocolate;\n",
       "  /* Definition of color scheme for fitted estimators */\n",
       "  --sklearn-color-fitted-level-0: #f0f8ff;\n",
       "  --sklearn-color-fitted-level-1: #d4ebff;\n",
       "  --sklearn-color-fitted-level-2: #b3dbfd;\n",
       "  --sklearn-color-fitted-level-3: cornflowerblue;\n",
       "\n",
       "  /* Specific color for light theme */\n",
       "  --sklearn-color-text-on-default-background: var(--sg-text-color, var(--theme-code-foreground, var(--jp-content-font-color1, black)));\n",
       "  --sklearn-color-background: var(--sg-background-color, var(--theme-background, var(--jp-layout-color0, white)));\n",
       "  --sklearn-color-border-box: var(--sg-text-color, var(--theme-code-foreground, var(--jp-content-font-color1, black)));\n",
       "  --sklearn-color-icon: #696969;\n",
       "\n",
       "  @media (prefers-color-scheme: dark) {\n",
       "    /* Redefinition of color scheme for dark theme */\n",
       "    --sklearn-color-text-on-default-background: var(--sg-text-color, var(--theme-code-foreground, var(--jp-content-font-color1, white)));\n",
       "    --sklearn-color-background: var(--sg-background-color, var(--theme-background, var(--jp-layout-color0, #111)));\n",
       "    --sklearn-color-border-box: var(--sg-text-color, var(--theme-code-foreground, var(--jp-content-font-color1, white)));\n",
       "    --sklearn-color-icon: #878787;\n",
       "  }\n",
       "}\n",
       "\n",
       "#sk-container-id-1 {\n",
       "  color: var(--sklearn-color-text);\n",
       "}\n",
       "\n",
       "#sk-container-id-1 pre {\n",
       "  padding: 0;\n",
       "}\n",
       "\n",
       "#sk-container-id-1 input.sk-hidden--visually {\n",
       "  border: 0;\n",
       "  clip: rect(1px 1px 1px 1px);\n",
       "  clip: rect(1px, 1px, 1px, 1px);\n",
       "  height: 1px;\n",
       "  margin: -1px;\n",
       "  overflow: hidden;\n",
       "  padding: 0;\n",
       "  position: absolute;\n",
       "  width: 1px;\n",
       "}\n",
       "\n",
       "#sk-container-id-1 div.sk-dashed-wrapped {\n",
       "  border: 1px dashed var(--sklearn-color-line);\n",
       "  margin: 0 0.4em 0.5em 0.4em;\n",
       "  box-sizing: border-box;\n",
       "  padding-bottom: 0.4em;\n",
       "  background-color: var(--sklearn-color-background);\n",
       "}\n",
       "\n",
       "#sk-container-id-1 div.sk-container {\n",
       "  /* jupyter's `normalize.less` sets `[hidden] { display: none; }`\n",
       "     but bootstrap.min.css set `[hidden] { display: none !important; }`\n",
       "     so we also need the `!important` here to be able to override the\n",
       "     default hidden behavior on the sphinx rendered scikit-learn.org.\n",
       "     See: https://github.com/scikit-learn/scikit-learn/issues/21755 */\n",
       "  display: inline-block !important;\n",
       "  position: relative;\n",
       "}\n",
       "\n",
       "#sk-container-id-1 div.sk-text-repr-fallback {\n",
       "  display: none;\n",
       "}\n",
       "\n",
       "div.sk-parallel-item,\n",
       "div.sk-serial,\n",
       "div.sk-item {\n",
       "  /* draw centered vertical line to link estimators */\n",
       "  background-image: linear-gradient(var(--sklearn-color-text-on-default-background), var(--sklearn-color-text-on-default-background));\n",
       "  background-size: 2px 100%;\n",
       "  background-repeat: no-repeat;\n",
       "  background-position: center center;\n",
       "}\n",
       "\n",
       "/* Parallel-specific style estimator block */\n",
       "\n",
       "#sk-container-id-1 div.sk-parallel-item::after {\n",
       "  content: \"\";\n",
       "  width: 100%;\n",
       "  border-bottom: 2px solid var(--sklearn-color-text-on-default-background);\n",
       "  flex-grow: 1;\n",
       "}\n",
       "\n",
       "#sk-container-id-1 div.sk-parallel {\n",
       "  display: flex;\n",
       "  align-items: stretch;\n",
       "  justify-content: center;\n",
       "  background-color: var(--sklearn-color-background);\n",
       "  position: relative;\n",
       "}\n",
       "\n",
       "#sk-container-id-1 div.sk-parallel-item {\n",
       "  display: flex;\n",
       "  flex-direction: column;\n",
       "}\n",
       "\n",
       "#sk-container-id-1 div.sk-parallel-item:first-child::after {\n",
       "  align-self: flex-end;\n",
       "  width: 50%;\n",
       "}\n",
       "\n",
       "#sk-container-id-1 div.sk-parallel-item:last-child::after {\n",
       "  align-self: flex-start;\n",
       "  width: 50%;\n",
       "}\n",
       "\n",
       "#sk-container-id-1 div.sk-parallel-item:only-child::after {\n",
       "  width: 0;\n",
       "}\n",
       "\n",
       "/* Serial-specific style estimator block */\n",
       "\n",
       "#sk-container-id-1 div.sk-serial {\n",
       "  display: flex;\n",
       "  flex-direction: column;\n",
       "  align-items: center;\n",
       "  background-color: var(--sklearn-color-background);\n",
       "  padding-right: 1em;\n",
       "  padding-left: 1em;\n",
       "}\n",
       "\n",
       "\n",
       "/* Toggleable style: style used for estimator/Pipeline/ColumnTransformer box that is\n",
       "clickable and can be expanded/collapsed.\n",
       "- Pipeline and ColumnTransformer use this feature and define the default style\n",
       "- Estimators will overwrite some part of the style using the `sk-estimator` class\n",
       "*/\n",
       "\n",
       "/* Pipeline and ColumnTransformer style (default) */\n",
       "\n",
       "#sk-container-id-1 div.sk-toggleable {\n",
       "  /* Default theme specific background. It is overwritten whether we have a\n",
       "  specific estimator or a Pipeline/ColumnTransformer */\n",
       "  background-color: var(--sklearn-color-background);\n",
       "}\n",
       "\n",
       "/* Toggleable label */\n",
       "#sk-container-id-1 label.sk-toggleable__label {\n",
       "  cursor: pointer;\n",
       "  display: block;\n",
       "  width: 100%;\n",
       "  margin-bottom: 0;\n",
       "  padding: 0.5em;\n",
       "  box-sizing: border-box;\n",
       "  text-align: center;\n",
       "}\n",
       "\n",
       "#sk-container-id-1 label.sk-toggleable__label-arrow:before {\n",
       "  /* Arrow on the left of the label */\n",
       "  content: \"▸\";\n",
       "  float: left;\n",
       "  margin-right: 0.25em;\n",
       "  color: var(--sklearn-color-icon);\n",
       "}\n",
       "\n",
       "#sk-container-id-1 label.sk-toggleable__label-arrow:hover:before {\n",
       "  color: var(--sklearn-color-text);\n",
       "}\n",
       "\n",
       "/* Toggleable content - dropdown */\n",
       "\n",
       "#sk-container-id-1 div.sk-toggleable__content {\n",
       "  max-height: 0;\n",
       "  max-width: 0;\n",
       "  overflow: hidden;\n",
       "  text-align: left;\n",
       "  /* unfitted */\n",
       "  background-color: var(--sklearn-color-unfitted-level-0);\n",
       "}\n",
       "\n",
       "#sk-container-id-1 div.sk-toggleable__content.fitted {\n",
       "  /* fitted */\n",
       "  background-color: var(--sklearn-color-fitted-level-0);\n",
       "}\n",
       "\n",
       "#sk-container-id-1 div.sk-toggleable__content pre {\n",
       "  margin: 0.2em;\n",
       "  border-radius: 0.25em;\n",
       "  color: var(--sklearn-color-text);\n",
       "  /* unfitted */\n",
       "  background-color: var(--sklearn-color-unfitted-level-0);\n",
       "}\n",
       "\n",
       "#sk-container-id-1 div.sk-toggleable__content.fitted pre {\n",
       "  /* unfitted */\n",
       "  background-color: var(--sklearn-color-fitted-level-0);\n",
       "}\n",
       "\n",
       "#sk-container-id-1 input.sk-toggleable__control:checked~div.sk-toggleable__content {\n",
       "  /* Expand drop-down */\n",
       "  max-height: 200px;\n",
       "  max-width: 100%;\n",
       "  overflow: auto;\n",
       "}\n",
       "\n",
       "#sk-container-id-1 input.sk-toggleable__control:checked~label.sk-toggleable__label-arrow:before {\n",
       "  content: \"▾\";\n",
       "}\n",
       "\n",
       "/* Pipeline/ColumnTransformer-specific style */\n",
       "\n",
       "#sk-container-id-1 div.sk-label input.sk-toggleable__control:checked~label.sk-toggleable__label {\n",
       "  color: var(--sklearn-color-text);\n",
       "  background-color: var(--sklearn-color-unfitted-level-2);\n",
       "}\n",
       "\n",
       "#sk-container-id-1 div.sk-label.fitted input.sk-toggleable__control:checked~label.sk-toggleable__label {\n",
       "  background-color: var(--sklearn-color-fitted-level-2);\n",
       "}\n",
       "\n",
       "/* Estimator-specific style */\n",
       "\n",
       "/* Colorize estimator box */\n",
       "#sk-container-id-1 div.sk-estimator input.sk-toggleable__control:checked~label.sk-toggleable__label {\n",
       "  /* unfitted */\n",
       "  background-color: var(--sklearn-color-unfitted-level-2);\n",
       "}\n",
       "\n",
       "#sk-container-id-1 div.sk-estimator.fitted input.sk-toggleable__control:checked~label.sk-toggleable__label {\n",
       "  /* fitted */\n",
       "  background-color: var(--sklearn-color-fitted-level-2);\n",
       "}\n",
       "\n",
       "#sk-container-id-1 div.sk-label label.sk-toggleable__label,\n",
       "#sk-container-id-1 div.sk-label label {\n",
       "  /* The background is the default theme color */\n",
       "  color: var(--sklearn-color-text-on-default-background);\n",
       "}\n",
       "\n",
       "/* On hover, darken the color of the background */\n",
       "#sk-container-id-1 div.sk-label:hover label.sk-toggleable__label {\n",
       "  color: var(--sklearn-color-text);\n",
       "  background-color: var(--sklearn-color-unfitted-level-2);\n",
       "}\n",
       "\n",
       "/* Label box, darken color on hover, fitted */\n",
       "#sk-container-id-1 div.sk-label.fitted:hover label.sk-toggleable__label.fitted {\n",
       "  color: var(--sklearn-color-text);\n",
       "  background-color: var(--sklearn-color-fitted-level-2);\n",
       "}\n",
       "\n",
       "/* Estimator label */\n",
       "\n",
       "#sk-container-id-1 div.sk-label label {\n",
       "  font-family: monospace;\n",
       "  font-weight: bold;\n",
       "  display: inline-block;\n",
       "  line-height: 1.2em;\n",
       "}\n",
       "\n",
       "#sk-container-id-1 div.sk-label-container {\n",
       "  text-align: center;\n",
       "}\n",
       "\n",
       "/* Estimator-specific */\n",
       "#sk-container-id-1 div.sk-estimator {\n",
       "  font-family: monospace;\n",
       "  border: 1px dotted var(--sklearn-color-border-box);\n",
       "  border-radius: 0.25em;\n",
       "  box-sizing: border-box;\n",
       "  margin-bottom: 0.5em;\n",
       "  /* unfitted */\n",
       "  background-color: var(--sklearn-color-unfitted-level-0);\n",
       "}\n",
       "\n",
       "#sk-container-id-1 div.sk-estimator.fitted {\n",
       "  /* fitted */\n",
       "  background-color: var(--sklearn-color-fitted-level-0);\n",
       "}\n",
       "\n",
       "/* on hover */\n",
       "#sk-container-id-1 div.sk-estimator:hover {\n",
       "  /* unfitted */\n",
       "  background-color: var(--sklearn-color-unfitted-level-2);\n",
       "}\n",
       "\n",
       "#sk-container-id-1 div.sk-estimator.fitted:hover {\n",
       "  /* fitted */\n",
       "  background-color: var(--sklearn-color-fitted-level-2);\n",
       "}\n",
       "\n",
       "/* Specification for estimator info (e.g. \"i\" and \"?\") */\n",
       "\n",
       "/* Common style for \"i\" and \"?\" */\n",
       "\n",
       ".sk-estimator-doc-link,\n",
       "a:link.sk-estimator-doc-link,\n",
       "a:visited.sk-estimator-doc-link {\n",
       "  float: right;\n",
       "  font-size: smaller;\n",
       "  line-height: 1em;\n",
       "  font-family: monospace;\n",
       "  background-color: var(--sklearn-color-background);\n",
       "  border-radius: 1em;\n",
       "  height: 1em;\n",
       "  width: 1em;\n",
       "  text-decoration: none !important;\n",
       "  margin-left: 1ex;\n",
       "  /* unfitted */\n",
       "  border: var(--sklearn-color-unfitted-level-1) 1pt solid;\n",
       "  color: var(--sklearn-color-unfitted-level-1);\n",
       "}\n",
       "\n",
       ".sk-estimator-doc-link.fitted,\n",
       "a:link.sk-estimator-doc-link.fitted,\n",
       "a:visited.sk-estimator-doc-link.fitted {\n",
       "  /* fitted */\n",
       "  border: var(--sklearn-color-fitted-level-1) 1pt solid;\n",
       "  color: var(--sklearn-color-fitted-level-1);\n",
       "}\n",
       "\n",
       "/* On hover */\n",
       "div.sk-estimator:hover .sk-estimator-doc-link:hover,\n",
       ".sk-estimator-doc-link:hover,\n",
       "div.sk-label-container:hover .sk-estimator-doc-link:hover,\n",
       ".sk-estimator-doc-link:hover {\n",
       "  /* unfitted */\n",
       "  background-color: var(--sklearn-color-unfitted-level-3);\n",
       "  color: var(--sklearn-color-background);\n",
       "  text-decoration: none;\n",
       "}\n",
       "\n",
       "div.sk-estimator.fitted:hover .sk-estimator-doc-link.fitted:hover,\n",
       ".sk-estimator-doc-link.fitted:hover,\n",
       "div.sk-label-container:hover .sk-estimator-doc-link.fitted:hover,\n",
       ".sk-estimator-doc-link.fitted:hover {\n",
       "  /* fitted */\n",
       "  background-color: var(--sklearn-color-fitted-level-3);\n",
       "  color: var(--sklearn-color-background);\n",
       "  text-decoration: none;\n",
       "}\n",
       "\n",
       "/* Span, style for the box shown on hovering the info icon */\n",
       ".sk-estimator-doc-link span {\n",
       "  display: none;\n",
       "  z-index: 9999;\n",
       "  position: relative;\n",
       "  font-weight: normal;\n",
       "  right: .2ex;\n",
       "  padding: .5ex;\n",
       "  margin: .5ex;\n",
       "  width: min-content;\n",
       "  min-width: 20ex;\n",
       "  max-width: 50ex;\n",
       "  color: var(--sklearn-color-text);\n",
       "  box-shadow: 2pt 2pt 4pt #999;\n",
       "  /* unfitted */\n",
       "  background: var(--sklearn-color-unfitted-level-0);\n",
       "  border: .5pt solid var(--sklearn-color-unfitted-level-3);\n",
       "}\n",
       "\n",
       ".sk-estimator-doc-link.fitted span {\n",
       "  /* fitted */\n",
       "  background: var(--sklearn-color-fitted-level-0);\n",
       "  border: var(--sklearn-color-fitted-level-3);\n",
       "}\n",
       "\n",
       ".sk-estimator-doc-link:hover span {\n",
       "  display: block;\n",
       "}\n",
       "\n",
       "/* \"?\"-specific style due to the `<a>` HTML tag */\n",
       "\n",
       "#sk-container-id-1 a.estimator_doc_link {\n",
       "  float: right;\n",
       "  font-size: 1rem;\n",
       "  line-height: 1em;\n",
       "  font-family: monospace;\n",
       "  background-color: var(--sklearn-color-background);\n",
       "  border-radius: 1rem;\n",
       "  height: 1rem;\n",
       "  width: 1rem;\n",
       "  text-decoration: none;\n",
       "  /* unfitted */\n",
       "  color: var(--sklearn-color-unfitted-level-1);\n",
       "  border: var(--sklearn-color-unfitted-level-1) 1pt solid;\n",
       "}\n",
       "\n",
       "#sk-container-id-1 a.estimator_doc_link.fitted {\n",
       "  /* fitted */\n",
       "  border: var(--sklearn-color-fitted-level-1) 1pt solid;\n",
       "  color: var(--sklearn-color-fitted-level-1);\n",
       "}\n",
       "\n",
       "/* On hover */\n",
       "#sk-container-id-1 a.estimator_doc_link:hover {\n",
       "  /* unfitted */\n",
       "  background-color: var(--sklearn-color-unfitted-level-3);\n",
       "  color: var(--sklearn-color-background);\n",
       "  text-decoration: none;\n",
       "}\n",
       "\n",
       "#sk-container-id-1 a.estimator_doc_link.fitted:hover {\n",
       "  /* fitted */\n",
       "  background-color: var(--sklearn-color-fitted-level-3);\n",
       "}\n",
       "</style><div id=\"sk-container-id-1\" class=\"sk-top-container\"><div class=\"sk-text-repr-fallback\"><pre>DecisionTreeClassifier()</pre><b>In a Jupyter environment, please rerun this cell to show the HTML representation or trust the notebook. <br />On GitHub, the HTML representation is unable to render, please try loading this page with nbviewer.org.</b></div><div class=\"sk-container\" hidden><div class=\"sk-item\"><div class=\"sk-estimator fitted sk-toggleable\"><input class=\"sk-toggleable__control sk-hidden--visually\" id=\"sk-estimator-id-1\" type=\"checkbox\" checked><label for=\"sk-estimator-id-1\" class=\"sk-toggleable__label fitted sk-toggleable__label-arrow fitted\">&nbsp;&nbsp;DecisionTreeClassifier<a class=\"sk-estimator-doc-link fitted\" rel=\"noreferrer\" target=\"_blank\" href=\"https://scikit-learn.org/1.5/modules/generated/sklearn.tree.DecisionTreeClassifier.html\">?<span>Documentation for DecisionTreeClassifier</span></a><span class=\"sk-estimator-doc-link fitted\">i<span>Fitted</span></span></label><div class=\"sk-toggleable__content fitted\"><pre>DecisionTreeClassifier()</pre></div> </div></div></div></div>"
      ],
      "text/plain": [
       "DecisionTreeClassifier()"
      ]
     },
     "execution_count": 59,
     "metadata": {},
     "output_type": "execute_result"
    }
   ],
   "source": [
    "clf_decision.fit(train_x_vectors, train_y)"
   ]
  },
  {
   "cell_type": "code",
   "execution_count": null,
   "id": "4f7dd179-0d64-4853-ae5b-5943aa05eceb",
   "metadata": {},
   "outputs": [],
   "source": [
    "#ya tenemos nuestro modelo creado"
   ]
  },
  {
   "cell_type": "code",
   "execution_count": null,
   "id": "a8f443d2-31f0-40d5-838f-3dbd35af493a",
   "metadata": {},
   "outputs": [],
   "source": [
    "'''\n",
    "\n",
    "Fase5: Evaluar el modelo\n",
    "\n",
    "'''"
   ]
  },
  {
   "cell_type": "code",
   "execution_count": null,
   "id": "1809dda1-759e-4a28-bf73-51b56c040a91",
   "metadata": {},
   "outputs": [],
   "source": [
    "#vamos a ver el texto een la posicion [0]\n"
   ]
  },
  {
   "cell_type": "code",
   "execution_count": 61,
   "id": "90571d1e-76ac-4b5f-922b-b4bd67803f07",
   "metadata": {},
   "outputs": [
    {
     "data": {
      "text/plain": [
       "' Having looked around the Web for a digital camera I was looking at either the Z1 or the Canon EOD300 Rebel  Unfortunately the Rebel was out of my price range so I bought the Z1  Overall I made a very good choice The camera takes good pictures in the majority of circumstances  You can have full control over the aperture  exposure and focus should you wish too  The camera can take over some or all of the functions too if you wish Low light shooting is easy and there is an option for sunset preserve to keep the warmth of a picture rather than overexpose to simulate full light  Fast moving objects need good light  as you would expect  but the camera can still operate at speeds approaching 1600 ISO  the speeds are quoted in seconds and fractions so you will have to convert to ISO yourself if you are that way inclined Night shooting is an exercise in steadyness and the threaded mount is inline with the lens so tripods are easy to attach and use with the camera  The position of the trigger means taht a decent push is needed often spoiling the shot through movement on the tripod  I tended to use the time delay function after lining the shot up  since the exposur time was generally 2 seconds you wouldnt be able to take moment in time shots anyway as you would blur  however if motion blur was wanted for a set time then the lack of a remote may hinder you The flash was good with the red eye reduction setting annoying  3 distinct flashes are used rather than the usual strobe  but effective The viewfinder shows a full picture but it has an obvious border so you will get more than you see  The LCD screen shows the full picture  observed by me not scientifically proved  The viewfinder and LCD screen are served by the same mechanism and therefore cannot be activated at the same time  Long exposure shots are restricted to 10 seconds maximum  the sensor simply cannot take long exposure  I typically call long exposure at least 1 minute with traditional cameras taking maybe 30 minutes onwards  This is not a fault of the camera as most digital cameras suffer the same fate of  overheated  CCDs  Only the EOD300 can have long exposures  I have seen a 10 minute exposure picture  for a budget camera 10x optical zoom is terrific and even the autofocus at maximum zoom is quick and efficient  A certain knack needs to be adopted with the camera since the shutter trigger is a two position button  A half press will continually focus and a full press will take the picture  therefore if you simply press the button the shutter will appear to be slow since the focusing mechanism will kick in before the picture is taken  If you are anticipating a fast shot then half hold the button to activate the autofocus then the shutter can be activated quickly  Usign this methods the camer was faultless and fast I have never been a fan of megapixels to rate a camera  Rather the resolutions on offer are good and true  2048 scale very well   but dont expect many per a 128Mb card never mind the bundled 16Mb  Colour reproduction is faithful on daylight shots and average for evening shots with maybe a hint of overglow Battery life is great on rechargeables  I got 300 shots from a set of 2100 NIMH before they needed charging and I was using autofocus and zoom a lot  however if you use alkalines then expect 200 before the batteries are drained   note they wont be useless  good enough for remotes or clocks  but they have lost the edge for the drain the camera needs For negative points  the build quality is average  The mechanican shutter jammed on my only 1 week into using it  I couldnt shift between LCD and viewfinder and a heavy press was needed on the back screen to release the shutter  Not good  The battery compartment seems VERY flimsy and I worry about breaking it everytime I use it  and I charge my batteries in a smart charger not internally  No AC supply is included but the majority of people who need one will have a regulated supply to hand anyway The lack of remote function is the only noteable omission from a rather useful bargain camera  '"
      ]
     },
     "execution_count": 61,
     "metadata": {},
     "output_type": "execute_result"
    }
   ],
   "source": [
    "test_x[0]\n"
   ]
  },
  {
   "cell_type": "code",
   "execution_count": null,
   "id": "5f7937b7-fb67-4b41-bc38-8314e3e6462c",
   "metadata": {},
   "outputs": [],
   "source": [
    "#leyendo por encima, yo humano hago la prediccion con mi mal ingles de que habla de una camara, no de un coche  xD\n",
    "\n",
    "#vamos a comprobarlo con nuestro modelo\n"
   ]
  },
  {
   "cell_type": "code",
   "execution_count": 63,
   "id": "4203b2de-e455-46b2-8be4-0bd98ac213f6",
   "metadata": {},
   "outputs": [
    {
     "data": {
      "text/plain": [
       "array(['Camera'], dtype='<U6')"
      ]
     },
     "execution_count": 63,
     "metadata": {},
     "output_type": "execute_result"
    }
   ],
   "source": [
    "clf_decision.predict(test_x_vectors[0])\n"
   ]
  },
  {
   "cell_type": "code",
   "execution_count": null,
   "id": "985baa16-d9d7-4d45-aaf9-27938fc3c784",
   "metadata": {},
   "outputs": [],
   "source": [
    "#parece que lo adivino... el modelo ha predecido que habla de una camara\n"
   ]
  },
  {
   "cell_type": "code",
   "execution_count": 64,
   "id": "9ab31433-229a-4cec-a45a-bc7d2ae5b8b6",
   "metadata": {},
   "outputs": [
    {
     "data": {
      "text/plain": [
       "0.9949494949494949"
      ]
     },
     "execution_count": 64,
     "metadata": {},
     "output_type": "execute_result"
    }
   ],
   "source": [
    "clf_decision.score(test_x_vectors, test_y) #99% de probabilidad de acierto del modelo"
   ]
  },
  {
   "cell_type": "code",
   "execution_count": 65,
   "id": "5ab57125-e85b-4a57-acbc-a8cee5cf9e6b",
   "metadata": {},
   "outputs": [],
   "source": [
    "from sklearn.metrics import f1_score"
   ]
  },
  {
   "cell_type": "code",
   "execution_count": 66,
   "id": "cc2ef2f0-8d14-468d-93b2-b04d9156f186",
   "metadata": {},
   "outputs": [
    {
     "data": {
      "text/plain": [
       "array([0.99428571, 0.99547511])"
      ]
     },
     "execution_count": 66,
     "metadata": {},
     "output_type": "execute_result"
    }
   ],
   "source": [
    "f1_score(test_y, clf_decision.predict(test_x_vectors), average = None) #Promedio ponderado de la precision. mejor 1 peor 0. \n",
    "#Buenos resultados"
   ]
  },
  {
   "cell_type": "code",
   "execution_count": 67,
   "id": "354c3e57-8582-4b1d-b842-0b7a2e5b37db",
   "metadata": {},
   "outputs": [
    {
     "data": {
      "text/plain": [
       "array([[ 87,   0],\n",
       "       [  1, 110]], dtype=int64)"
      ]
     },
     "execution_count": 67,
     "metadata": {},
     "output_type": "execute_result"
    }
   ],
   "source": [
    "#vamos a hacer ahora la matriz de confusion\n",
    "from sklearn.metrics import confusion_matrix\n",
    "confusion_matrix(test_y, clf_decision.predict(test_x_vectors))"
   ]
  },
  {
   "cell_type": "code",
   "execution_count": null,
   "id": "7ab3b119-d198-4bf0-b883-fc122fcd208a",
   "metadata": {},
   "outputs": [],
   "source": [
    "'''\n",
    "explicacion:\n",
    "\n",
    "[ 87 -> True Positives , 0 ->\n",
    "[ 1  ->    , 110 -> falsos negativos]"
   ]
  },
  {
   "cell_type": "code",
   "execution_count": null,
   "id": "f8ff729e-014a-4dd7-bfe7-a6816b4af6c4",
   "metadata": {},
   "outputs": [],
   "source": [
    "#vamos a seguir probando el modelo con una reseña propia inventada"
   ]
  },
  {
   "cell_type": "code",
   "execution_count": 90,
   "id": "fbdbb366-83f8-4e4b-ab93-b5e6074fda8c",
   "metadata": {},
   "outputs": [],
   "source": [
    "test_de_prueba = [' I love this gadget to take really fantastics photos in darkness conditions']"
   ]
  },
  {
   "cell_type": "code",
   "execution_count": 91,
   "id": "3dba7bff-a201-4c93-b7c5-043a59431d52",
   "metadata": {},
   "outputs": [],
   "source": [
    "new_test = vectorizer.transform(test_de_prueba)"
   ]
  },
  {
   "cell_type": "code",
   "execution_count": 92,
   "id": "22a65b65-16e7-41c6-abdb-a3137750d33d",
   "metadata": {},
   "outputs": [
    {
     "data": {
      "text/plain": [
       "array(['Auto'], dtype='<U6')"
      ]
     },
     "execution_count": 92,
     "metadata": {},
     "output_type": "execute_result"
    }
   ],
   "source": [
    "clf_decision.predict(new_test)"
   ]
  },
  {
   "cell_type": "code",
   "execution_count": null,
   "id": "ebb9250a-6c5e-4398-8056-590d36bcb549",
   "metadata": {},
   "outputs": [],
   "source": [
    "#pues qui fallo el modelo xD, un auto dice"
   ]
  },
  {
   "cell_type": "code",
   "execution_count": null,
   "id": "03b5c4cf-a694-4df3-a692-32937041d61b",
   "metadata": {},
   "outputs": [],
   "source": [
    "#voy a usar un comentario real de Amazon en ingles para testear el TreeDecision con la bolsa de palabras\n"
   ]
  },
  {
   "cell_type": "code",
   "execution_count": 93,
   "id": "d748081f-ad2a-490c-a40a-f24dd37b632b",
   "metadata": {},
   "outputs": [],
   "source": [
    "comentario_amazon = ['Went for this one after considering many reviews. Very well built, feels strong and robust. The instructions are good but not perfect and some of the set up procedure is a bit of trial and error but we got there without any real hitches. Mounted on wall very easily and the camera is very clear with a wide range of vision. Now working perfectly and we feel this just adds more security for our home. There are many excellent tutorials on You Tube to assist with the installation. Make the most of them, they are very helpful.']\n",
    "#una camara de seguridad"
   ]
  },
  {
   "cell_type": "code",
   "execution_count": 95,
   "id": "1e25fb01-2b15-4a15-b140-2973aea17b56",
   "metadata": {},
   "outputs": [],
   "source": [
    "new_test_amazon = vectorizer.transform(comentario_amazon)"
   ]
  },
  {
   "cell_type": "code",
   "execution_count": 96,
   "id": "9dd70e4a-55b2-4330-9b96-73910619d75b",
   "metadata": {},
   "outputs": [
    {
     "data": {
      "text/plain": [
       "array(['Camera'], dtype='<U6')"
      ]
     },
     "execution_count": 96,
     "metadata": {},
     "output_type": "execute_result"
    }
   ],
   "source": [
    "clf_decision.predict(new_test_amazon)"
   ]
  },
  {
   "cell_type": "code",
   "execution_count": null,
   "id": "b795d02e-d27b-49fa-aee8-40fdd24bb3d4",
   "metadata": {},
   "outputs": [],
   "source": [
    "#ahora si funciono! ;)\n",
    "\n"
   ]
  },
  {
   "cell_type": "code",
   "execution_count": 97,
   "id": "cb137861-f817-4ac4-b8d8-87062989a8b1",
   "metadata": {},
   "outputs": [],
   "source": [
    "#vamos aprobar ahora con una reseña de un Tesla"
   ]
  },
  {
   "cell_type": "code",
   "execution_count": 102,
   "id": "acf0cc69-bcd1-4f98-83a7-a522180af24f",
   "metadata": {},
   "outputs": [],
   "source": [
    "comentario_tesla = ['The Tesla Model S is an impressive blend of cutting-edge technology, exhilarating performance, and refined luxury, making it one of the most compelling electric vehicles (EVs) on the market today.']"
   ]
  },
  {
   "cell_type": "code",
   "execution_count": 103,
   "id": "5fc371b6-d363-41b2-aa79-5dc72bdee058",
   "metadata": {},
   "outputs": [],
   "source": [
    "new_test_tesla = vectorizer.transform(comentario_tesla)"
   ]
  },
  {
   "cell_type": "code",
   "execution_count": 104,
   "id": "08bcc73f-8a47-4aa7-8532-bc6bf1ce779d",
   "metadata": {},
   "outputs": [
    {
     "data": {
      "text/plain": [
       "array(['Auto'], dtype='<U6')"
      ]
     },
     "execution_count": 104,
     "metadata": {},
     "output_type": "execute_result"
    }
   ],
   "source": [
    "clf_decision.predict(new_test_tesla)"
   ]
  },
  {
   "cell_type": "code",
   "execution_count": null,
   "id": "dac9244c-4766-4e25-8f6c-dc576d7551a8",
   "metadata": {},
   "outputs": [],
   "source": [
    "#acerto tambien"
   ]
  },
  {
   "cell_type": "code",
   "execution_count": null,
   "id": "3c245823-be58-4386-a700-6d888751e9f1",
   "metadata": {},
   "outputs": [],
   "source": [
    "'''\n",
    "\n",
    "PASO 6 : mejorar el modelo\n",
    "\n",
    "\n",
    "Buscar otros algoritmos y probar . En este caso por ejemplo SVM, \n",
    "\n",
    "'''"
   ]
  }
 ],
 "metadata": {
  "kernelspec": {
   "display_name": "Python 3 (ipykernel)",
   "language": "python",
   "name": "python3"
  },
  "language_info": {
   "codemirror_mode": {
    "name": "ipython",
    "version": 3
   },
   "file_extension": ".py",
   "mimetype": "text/x-python",
   "name": "python",
   "nbconvert_exporter": "python",
   "pygments_lexer": "ipython3",
   "version": "3.12.4"
  }
 },
 "nbformat": 4,
 "nbformat_minor": 5
}
